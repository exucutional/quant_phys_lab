{
 "cells": [
  {
   "cell_type": "markdown",
   "metadata": {},
   "source": [
    "# Отчет по лабораторной работе 1.2\n",
    "\n",
    "## Исследование эффекта комптона\n",
    "Конкс Эрик, Б01-818"
   ]
  },
  {
   "cell_type": "markdown",
   "metadata": {},
   "source": [
    "### Результат измерения и обработка данных"
   ]
  },
  {
   "cell_type": "code",
   "execution_count": 1,
   "metadata": {
    "scrolled": true
   },
   "outputs": [
    {
     "data": {
      "text/html": [
       "<div>\n",
       "<style scoped>\n",
       "    .dataframe tbody tr th:only-of-type {\n",
       "        vertical-align: middle;\n",
       "    }\n",
       "\n",
       "    .dataframe tbody tr th {\n",
       "        vertical-align: top;\n",
       "    }\n",
       "\n",
       "    .dataframe thead th {\n",
       "        text-align: right;\n",
       "    }\n",
       "</style>\n",
       "<table border=\"1\" class=\"dataframe\">\n",
       "  <thead>\n",
       "    <tr style=\"text-align: right;\">\n",
       "      <th></th>\n",
       "      <th>0</th>\n",
       "      <th>1</th>\n",
       "      <th>2</th>\n",
       "      <th>3</th>\n",
       "      <th>4</th>\n",
       "      <th>5</th>\n",
       "      <th>6</th>\n",
       "      <th>7</th>\n",
       "      <th>8</th>\n",
       "      <th>9</th>\n",
       "      <th>10</th>\n",
       "      <th>11</th>\n",
       "      <th>12</th>\n",
       "    </tr>\n",
       "  </thead>\n",
       "  <tbody>\n",
       "    <tr>\n",
       "      <th>θ, °</th>\n",
       "      <td>0</td>\n",
       "      <td>10</td>\n",
       "      <td>20</td>\n",
       "      <td>30</td>\n",
       "      <td>40</td>\n",
       "      <td>50</td>\n",
       "      <td>60</td>\n",
       "      <td>70</td>\n",
       "      <td>80</td>\n",
       "      <td>90</td>\n",
       "      <td>100</td>\n",
       "      <td>110</td>\n",
       "      <td>120</td>\n",
       "    </tr>\n",
       "    <tr>\n",
       "      <th>N</th>\n",
       "      <td>584</td>\n",
       "      <td>571</td>\n",
       "      <td>552</td>\n",
       "      <td>465</td>\n",
       "      <td>435</td>\n",
       "      <td>360</td>\n",
       "      <td>323</td>\n",
       "      <td>290</td>\n",
       "      <td>259</td>\n",
       "      <td>228</td>\n",
       "      <td>219</td>\n",
       "      <td>191</td>\n",
       "      <td>175</td>\n",
       "    </tr>\n",
       "  </tbody>\n",
       "</table>\n",
       "</div>"
      ],
      "text/plain": [
       "       0    1    2    3    4    5    6    7    8    9    10   11   12\n",
       "θ, °    0   10   20   30   40   50   60   70   80   90  100  110  120\n",
       "N     584  571  552  465  435  360  323  290  259  228  219  191  175"
      ]
     },
     "execution_count": 1,
     "metadata": {},
     "output_type": "execute_result"
    }
   ],
   "source": [
    "import numpy as np\n",
    "import pandas as pd\n",
    "import matplotlib.pyplot as plt\n",
    "import scipy.optimize as opt\n",
    "from scipy import odr\n",
    "\n",
    "degrees = [i * 10 for i in range(13)]\n",
    "N = [584, 571, 552, 465, 435, 360, 323, 290, 259, 228, 219, 191, 175]\n",
    "pd.DataFrame({'θ, °': degrees, 'N': N}).T"
   ]
  },
  {
   "cell_type": "code",
   "execution_count": 2,
   "metadata": {},
   "outputs": [
    {
     "data": {
      "text/html": [
       "<div>\n",
       "<style scoped>\n",
       "    .dataframe tbody tr th:only-of-type {\n",
       "        vertical-align: middle;\n",
       "    }\n",
       "\n",
       "    .dataframe tbody tr th {\n",
       "        vertical-align: top;\n",
       "    }\n",
       "\n",
       "    .dataframe thead th {\n",
       "        text-align: right;\n",
       "    }\n",
       "</style>\n",
       "<table border=\"1\" class=\"dataframe\">\n",
       "  <thead>\n",
       "    <tr style=\"text-align: right;\">\n",
       "      <th></th>\n",
       "      <th>1-cos(θ)</th>\n",
       "      <th>Δ(1-cos(θ))</th>\n",
       "      <th>1/N</th>\n",
       "      <th>Δ(1/N)</th>\n",
       "    </tr>\n",
       "  </thead>\n",
       "  <tbody>\n",
       "    <tr>\n",
       "      <th>0</th>\n",
       "      <td>0.000000</td>\n",
       "      <td>0.000609</td>\n",
       "      <td>0.001712</td>\n",
       "      <td>0.000003</td>\n",
       "    </tr>\n",
       "    <tr>\n",
       "      <th>1</th>\n",
       "      <td>0.015192</td>\n",
       "      <td>0.006061</td>\n",
       "      <td>0.001751</td>\n",
       "      <td>0.000003</td>\n",
       "    </tr>\n",
       "    <tr>\n",
       "      <th>2</th>\n",
       "      <td>0.060307</td>\n",
       "      <td>0.011939</td>\n",
       "      <td>0.001812</td>\n",
       "      <td>0.000003</td>\n",
       "    </tr>\n",
       "    <tr>\n",
       "      <th>3</th>\n",
       "      <td>0.133975</td>\n",
       "      <td>0.017453</td>\n",
       "      <td>0.002151</td>\n",
       "      <td>0.000005</td>\n",
       "    </tr>\n",
       "    <tr>\n",
       "      <th>4</th>\n",
       "      <td>0.233956</td>\n",
       "      <td>0.022438</td>\n",
       "      <td>0.002299</td>\n",
       "      <td>0.000005</td>\n",
       "    </tr>\n",
       "    <tr>\n",
       "      <th>5</th>\n",
       "      <td>0.357212</td>\n",
       "      <td>0.026740</td>\n",
       "      <td>0.002778</td>\n",
       "      <td>0.000008</td>\n",
       "    </tr>\n",
       "    <tr>\n",
       "      <th>6</th>\n",
       "      <td>0.500000</td>\n",
       "      <td>0.030230</td>\n",
       "      <td>0.003096</td>\n",
       "      <td>0.000010</td>\n",
       "    </tr>\n",
       "    <tr>\n",
       "      <th>7</th>\n",
       "      <td>0.657980</td>\n",
       "      <td>0.032801</td>\n",
       "      <td>0.003448</td>\n",
       "      <td>0.000012</td>\n",
       "    </tr>\n",
       "    <tr>\n",
       "      <th>8</th>\n",
       "      <td>0.826352</td>\n",
       "      <td>0.034376</td>\n",
       "      <td>0.003861</td>\n",
       "      <td>0.000015</td>\n",
       "    </tr>\n",
       "    <tr>\n",
       "      <th>9</th>\n",
       "      <td>1.000000</td>\n",
       "      <td>0.034907</td>\n",
       "      <td>0.004386</td>\n",
       "      <td>0.000019</td>\n",
       "    </tr>\n",
       "    <tr>\n",
       "      <th>10</th>\n",
       "      <td>1.173648</td>\n",
       "      <td>0.034376</td>\n",
       "      <td>0.004566</td>\n",
       "      <td>0.000021</td>\n",
       "    </tr>\n",
       "    <tr>\n",
       "      <th>11</th>\n",
       "      <td>1.342020</td>\n",
       "      <td>0.032801</td>\n",
       "      <td>0.005236</td>\n",
       "      <td>0.000027</td>\n",
       "    </tr>\n",
       "    <tr>\n",
       "      <th>12</th>\n",
       "      <td>1.500000</td>\n",
       "      <td>0.030230</td>\n",
       "      <td>0.005714</td>\n",
       "      <td>0.000033</td>\n",
       "    </tr>\n",
       "  </tbody>\n",
       "</table>\n",
       "</div>"
      ],
      "text/plain": [
       "    1-cos(θ)  Δ(1-cos(θ))       1/N    Δ(1/N)\n",
       "0   0.000000     0.000609  0.001712  0.000003\n",
       "1   0.015192     0.006061  0.001751  0.000003\n",
       "2   0.060307     0.011939  0.001812  0.000003\n",
       "3   0.133975     0.017453  0.002151  0.000005\n",
       "4   0.233956     0.022438  0.002299  0.000005\n",
       "5   0.357212     0.026740  0.002778  0.000008\n",
       "6   0.500000     0.030230  0.003096  0.000010\n",
       "7   0.657980     0.032801  0.003448  0.000012\n",
       "8   0.826352     0.034376  0.003861  0.000015\n",
       "9   1.000000     0.034907  0.004386  0.000019\n",
       "10  1.173648     0.034376  0.004566  0.000021\n",
       "11  1.342020     0.032801  0.005236  0.000027\n",
       "12  1.500000     0.030230  0.005714  0.000033"
      ]
     },
     "execution_count": 2,
     "metadata": {},
     "output_type": "execute_result"
    }
   ],
   "source": [
    "x = 1 - np.cos(np.radians(degrees))\n",
    "x_error = np.radians(2) * np.sin(np.radians(degrees))\n",
    "x_error[0] = np.radians(2) * np.sin(np.radians(1))\n",
    "y = np.divide(1, N)\n",
    "y_error = np.divide(1, np.multiply(N, N))\n",
    "pd.DataFrame({'1-cos(θ)': x, 'Δ(1-cos(θ))': x_error, '1/N': y, 'Δ(1/N)': y_error})"
   ]
  },
  {
   "cell_type": "code",
   "execution_count": 3,
   "metadata": {},
   "outputs": [],
   "source": [
    "font = {'size'   : 20}\n",
    "plt.rc('font', **font)\n",
    "plt.rcParams['figure.figsize'] = [18, 14]"
   ]
  },
  {
   "cell_type": "markdown",
   "metadata": {},
   "source": [
    "$$\\frac{1}{N(\\theta)}-\\frac{1}{N(0)}=A(1-cos\\theta)$$"
   ]
  },
  {
   "cell_type": "markdown",
   "metadata": {},
   "source": [
    "$$a=A$$"
   ]
  },
  {
   "cell_type": "markdown",
   "metadata": {},
   "source": [
    "$$b=\\frac{1}{N(0)}$$"
   ]
  },
  {
   "cell_type": "code",
   "execution_count": 4,
   "metadata": {},
   "outputs": [
    {
     "name": "stdout",
     "output_type": "stream",
     "text": [
      "Fit parameter 1-sigma error y = a * x + b\n",
      "———————————–—————————————————————————————\n",
      "a = 0.002632828124252412 +- 4.0435262745963565e-05\n",
      "b = 0.0017121631883070768 +- 4.174453443589273e-06\n"
     ]
    }
   ],
   "source": [
    "f = lambda p, x: p[0] * x + p[1]\n",
    "\n",
    "\n",
    "quad_model = odr.Model(f)\n",
    "data = odr.RealData(x, y, sx=x_error, sy=y_error)\n",
    "modr = odr.ODR(data, quad_model, beta0=[0., 1.])\n",
    "out = modr.run()\n",
    "beta_opt = out.beta\n",
    "beta_err = out.sd_beta\n",
    "beta_name = ['a', 'b']\n",
    "print('Fit parameter 1-sigma error y = a * x + b')\n",
    "print('———————————–—————————————————————————————')\n",
    "for i in range(len(beta_opt)):\n",
    "    print(f\"{beta_name[i]} = {beta_opt[i]} +- {beta_err[i]}\")"
   ]
  },
  {
   "cell_type": "code",
   "execution_count": 12,
   "metadata": {},
   "outputs": [
    {
     "data": {
      "image/png": "[encoded data removed]",
      "text/plain": [
       "<Figure size 1296x1008 with 1 Axes>"
      ]
     },
     "metadata": {
      "needs_background": "light"
     },
     "output_type": "display_data"
    }
   ],
   "source": [
    "plt.plot(x, f(beta_opt, x), color='black', linewidth=4, label='fit curve')\n",
    "plt.plot(x, y, 'ro', label='init curve', markersize=12)\n",
    "plt.errorbar(x, y, xerr=x_error, yerr=y_error, fmt=\"none\", linewidth=4)\n",
    "plt.xlabel('1 - cos(θ)')\n",
    "plt.ylabel('1 / N(θ)')\n",
    "plt.grid(linewidth=2)\n",
    "plt.legend()\n",
    "plt.title('Dependence of the 1 / N(θ) on the 1 - cos(θ)')\n",
    "plt.show()"
   ]
  },
  {
   "cell_type": "code",
   "execution_count": 6,
   "metadata": {},
   "outputs": [],
   "source": [
    "N0 = 1 / beta_opt[1]\n",
    "N0_err = beta_err[1] * 1 / beta_opt[1] ** 2\n",
    "N90 = 1 / f(beta_opt, 1-np.cos(np.radians(90)))\n",
    "N90_err1 = beta_err[0] * 1 / f(beta_opt, 1-np.cos(np.radians(90))) ** 2\n",
    "N90_err2 = N0_err\n",
    "N90_err = N90 * (N90_err1 + N90_err2) / (N90 + N0)"
   ]
  },
  {
   "cell_type": "markdown",
   "metadata": {},
   "source": [
    "$$mc^2=E_\\gamma\\frac{N(90)}{N(0)-N(90)}$$"
   ]
  },
  {
   "cell_type": "code",
   "execution_count": 7,
   "metadata": {},
   "outputs": [
    {
     "name": "stdout",
     "output_type": "stream",
     "text": [
      "Result\n",
      "———————————–———————————————————————————————————————\n",
      "mc^2 = 430.50741528413556 +- 4.8437244659165195 кэВ\n",
      "mc^2 = 431 +- 5 кэВ\n",
      "mc^2 theoretically = 511 кэВ\n"
     ]
    }
   ],
   "source": [
    "Eγ = 662\n",
    "mc2 = Eγ * N90 / (N0 - N90)\n",
    "mc2_err = mc2 * (N90_err / N90 + (N0_err + N90_err) / (N0 - N90))\n",
    "print('Result')\n",
    "print('———————————–———————————————————————————————————————')\n",
    "print(f\"mc^2 = {mc2} +- {mc2_err} кэВ\")\n",
    "print(f\"mc^2 = {int(np.round(mc2))} +- {int(np.round(mc2_err))} кэВ\")\n",
    "print(\"mc^2 theoretically = 511 кэВ\")"
   ]
  }
 ],
 "metadata": {
  "kernelspec": {
   "display_name": "Python 3",
   "language": "python",
   "name": "python3"
  },
  "language_info": {
   "codemirror_mode": {
    "name": "ipython",
    "version": 3
   },
   "file_extension": ".py",
   "mimetype": "text/x-python",
   "name": "python",
   "nbconvert_exporter": "python",
   "pygments_lexer": "ipython3",
   "version": "3.7.4"
  }
 },
 "nbformat": 4,
 "nbformat_minor": 4
}
