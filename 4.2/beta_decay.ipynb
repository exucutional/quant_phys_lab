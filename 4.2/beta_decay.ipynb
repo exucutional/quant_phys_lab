{
 "cells": [
  {
   "cell_type": "markdown",
   "metadata": {},
   "source": [
    "# Отчет по лабораторной работе 4.2\n",
    "\n",
    "## Исследование энергетического спектра β-частиц и определение их максимальной энергии при помощи магнитного спектрометра\n",
    "Конкс Эрик, Б01-818"
   ]
  },
  {
   "cell_type": "code",
   "execution_count": null,
   "metadata": {},
   "outputs": [],
   "source": [
    "import numpy as np\n",
    "import pandas as pd\n",
    "import matplotlib.pyplot as plt\n",
    "import scipy.optimize as opt\n",
    "from scipy import odr\n",
    "\n",
    "N = []\n",
    "p = []\n",
    "T = []\n",
    "pd.DataFrame({'N': N, 'p, кэВ/с': p, 'T, кэВ': T})"
   ]
  },
  {
   "cell_type": "code",
   "execution_count": null,
   "metadata": {},
   "outputs": [],
   "source": [
    "y = np.sqrt(N) / p\n",
    "y_error = []\n",
    "x = T\n",
    "x_error = []\n",
    "pd.DataFrame({'sqrt(N)/p': x, 'Δ(sqrt(N)/p)': x_err, 'Ee-E': y, 'Δ(Ee-E)': y_err})"
   ]
  },
  {
   "cell_type": "code",
   "execution_count": null,
   "metadata": {},
   "outputs": [],
   "source": [
    "font = {'size'   : 20}\n",
    "plt.rc('font', **font)\n",
    "plt.rcParams['figure.figsize'] = [18, 14]"
   ]
  },
  {
   "cell_type": "markdown",
   "metadata": {},
   "source": [
    "$$\\frac{\\sqrt{N(p)}}{p} \\approx E_e - E$$"
   ]
  },
  {
   "cell_type": "code",
   "execution_count": null,
   "metadata": {},
   "outputs": [],
   "source": [
    "f = lambda p, x: p[0] * x + p[1]\n",
    "quad_model = odr.Model(f)\n",
    "data = odr.RealData(x, y, sx=x_error, sy=y_error)\n",
    "modr = odr.ODR(data, quad_model, beta0=[0.002, 0.002])\n",
    "out = modr.run()\n",
    "beta_opt = out.beta\n",
    "beta_err = out.sd_beta\n",
    "beta_name = ['a', 'b']\n",
    "print('Fit parameter 1-sigma error y = a * x + b')\n",
    "print('———————————–—————————————————————————————')\n",
    "for i in range(len(beta_opt)):\n",
    "    print(f\"{beta_name[i]} = {beta_opt[i]} +- {beta_err[i]}\")\n",
    "    print(\"    {:.5f} +- {:.5f}\".format(beta_opt[i], beta_err[i]))\n",
    "    \n",
    "print(f\"chisq = {out.res_var * (len(x) - len(beta_opt))}\")"
   ]
  },
  {
   "cell_type": "code",
   "execution_count": null,
   "metadata": {},
   "outputs": [],
   "source": [
    "plt.plot(x, f(beta_opt, x), color='black', linewidth=4, label='fit curve')\n",
    "plt.plot(x, y, 'ro', label='data points', markersize=12)\n",
    "plt.errorbar(x, y, xerr=x_error, yerr=y_error, fmt=\"none\", linewidth=4)\n",
    "plt.xlabel('sqrt(N) / p)')\n",
    "plt.ylabel('Ee - E')\n",
    "plt.grid(linewidth=2)\n",
    "plt.legend()\n",
    "plt.title('Fermi–Kurie plot')\n",
    "plt.show()"
   ]
  }
 ],
 "metadata": {
  "kernelspec": {
   "display_name": "Python 3",
   "language": "python",
   "name": "python3"
  },
  "language_info": {
   "codemirror_mode": {
    "name": "ipython",
    "version": 3
   },
   "file_extension": ".py",
   "mimetype": "text/x-python",
   "name": "python",
   "nbconvert_exporter": "python",
   "pygments_lexer": "ipython3",
   "version": "3.7.4"
  }
 },
 "nbformat": 4,
 "nbformat_minor": 4
}
